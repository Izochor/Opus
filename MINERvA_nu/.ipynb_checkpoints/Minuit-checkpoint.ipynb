{
 "cells": [
  {
   "cell_type": "markdown",
   "metadata": {},
   "source": [
    "# Preparation"
   ]
  },
  {
   "cell_type": "code",
   "execution_count": 1,
   "metadata": {},
   "outputs": [
    {
     "name": "stdout",
     "output_type": "stream",
     "text": [
      "Populating the interactive namespace from numpy and matplotlib\n"
     ]
    }
   ],
   "source": [
    "# basic setup of the notebook\n",
    "%pylab inline\n",
    "from pprint import pprint # we use this to pretty print some stuff later\n",
    "import numpy as np\n",
    "from matplotlib.colors import LogNorm\n",
    "from iminuit import Minuit\n",
    "from iminuit import minimize\n",
    "# from scipy.optimize import minimize\n",
    "from scipy.special import expit"
   ]
  },
  {
   "cell_type": "code",
   "execution_count": 2,
   "metadata": {},
   "outputs": [],
   "source": [
    "# defining constants\n",
    "mec_dim = 24  # dimension of matrix of rescaling\n",
    "events_number = 1e6  # number of events in sample\n",
    "cross_section = 1.19727e-39  # calculated cross section in .txt file\n",
    "alpha = 0.3 # parameter of smoothness\n",
    "\n",
    "delta_pT = np.array([75, 75, 100, 75, 75, 75, 75, 150, 150, 150, 250, 250, 1000])\n",
    "delta_pT_plot = np.array([75, 75, 100, 75, 75, 75, 75, 150, 150, 150, 250, 250, 1000, 0])\n",
    "delta_pL = np.array([500, 500, 500, 500, 500, 500, 500, 1000, 2000, 2000, 5000, 5000])\n",
    "pT = np.array([75, 150, 250, 325, 400, 475, 550, 700, 850, 1000, 1250, 1500, 2500])\n",
    "pT_plot = np.array([75, 150, 250, 325, 400, 475, 550, 700, 850, 1000, 1250, 1500, 2500, 3000])\n",
    "pL = np.array([1500, 2000, 2500, 3000, 3500, 4000, 4500, 5000, 6000, 8000, 10000, 15000, 20000])\n",
    "bins_width_vanilla = np.kron(delta_pT, delta_pL)\n",
    "bins_width = np.outer(bins_width_vanilla,  np.ones(mec_dim**2))\n",
    "\n",
    "# print(bins_width)"
   ]
  },
  {
   "cell_type": "code",
   "execution_count": 3,
   "metadata": {},
   "outputs": [],
   "source": [
    "# loading files\n",
    "matrix_vanilla      = np.fromfile(\"data/matrix_LFG.dat\",                sep=\" \")  # distribution of MEC events in bins \n",
    "cross_nuwro         = np.fromfile(\"data/cros_total_nuwro_LFG.dat\",      sep=\" \")  # cross section of nuwro (w-o MEC)\n",
    "cross_daniel        = np.fromfile(\"data/cros_total_daniel.dat\",         sep=\" \")  # cross section of MINERvA\n",
    "covariance_vanilla  = np.fromfile(\"data/daniel_covariance_vanilla.dat\", sep=\" \")  # covariance matrix\n",
    "cross_error_vanilla = np.fromfile(\"data/cros_error_daniel.dat\",         sep=\" \")  # error bars"
   ]
  },
  {
   "cell_type": "code",
   "execution_count": 4,
   "metadata": {},
   "outputs": [],
   "source": [
    "# modifying files\n",
    "matrix_unnormalized = np.reshape(matrix_vanilla,(156, mec_dim**2))  # reshaping MEC matrix\n",
    "matrix = matrix_unnormalized * cross_section * 1e6 * 12 / 13 / bins_width / events_number  # normalizing matrix\n",
    "\n",
    "covariance_noninverted = np.reshape(covariance_vanilla, (156,156))  # reshaping covarince matrix\n",
    "covariance = pinv(covariance_noninverted)  # pseudo-inverse covariance matrix (used later); inverse doesnt exist\n",
    "\n",
    "cross_error = np.where(cross_error_vanilla==0, 1, cross_error_vanilla)  # removing zeros from error bars\n",
    "\n",
    "# rotation of results due to covariance matrix's look \n",
    "cross_daniel_cov = np.reshape(cross_daniel,(12,13)).transpose().flatten()  \n",
    "cross_nuwro_cov = np.reshape(cross_nuwro,(12,13)).transpose().flatten()"
   ]
  },
  {
   "cell_type": "code",
   "execution_count": 30,
   "metadata": {},
   "outputs": [],
   "source": [
    "def mysigmo(x): # my modified sigmoid\n",
    "    return 10*expit(x*100-3)\n",
    "\n",
    "#################################\n",
    "# bounds and constrains\n",
    "tmp = []\n",
    "for i in range(0,24):  # fixing over diagonal elements\n",
    "    tmp += [1,1] * i + [0.01, None] * (24-i)\n",
    "    \n",
    "bnd = np.reshape(tmp,(576,2))  # bounds - no zero in order to avoid division by it\n",
    "\n",
    "##################################\n",
    "\n",
    "def punishment(rescale): \n",
    "\n",
    "    upper = []\n",
    "    for i in range(24):\n",
    "        for j in range(0, i):\n",
    "            upper += [24*i + j]  # elements' indexes over diagonal \n",
    "\n",
    "    lower = []\n",
    "    for i in range(24):\n",
    "        for j in range(i, 24):\n",
    "            lower += [24*i + j]  # elements' indexes below diagonal \n",
    "\n",
    "    # d - diagonal_line \n",
    "    # r - right_line\n",
    "    # b - bottom line\n",
    "    # i - inner\n",
    "    # . - both \n",
    "    #\n",
    "    #     ---------\n",
    "    #     |      .|\n",
    "    #     |    dir|\n",
    "    #     |  diiir|\n",
    "    #     |.bbbbb.|\n",
    "    #     ---------\n",
    "\n",
    "    bottom_line    = range(24)\n",
    "    right_line     = range(23, 24 ** 2, 24)\n",
    "    diagonal_line  = [24*i + i for i in range(24)]\n",
    "    inner          = [x for x in lower if x not in bottom_line and x not in right_line and x not in diagonal_line]\n",
    "\n",
    "    pun = 0 # punishment\n",
    "\n",
    "    for i in bottom_line[1:-1]:  # for bottom side of matrix\n",
    "        pun += mysigmo(-rescale[i] / max( \\\n",
    "                rescale[i + 1], \\\n",
    "                rescale[i + 24],\\\n",
    "                rescale[i - 1]) + (1 - alpha))\n",
    "        pun += mysigmo(rescale[i] / min( \\\n",
    "                rescale[i + 1], \\\n",
    "                rescale[i + 24],\\\n",
    "                rescale[i - 1]) - 1/(1 - alpha))\n",
    "\n",
    "    for i in right_line[1:-1]:  # for right side of matrix\n",
    "        pun += mysigmo(-rescale[i] / max( \\\n",
    "                rescale[i + 24], \\\n",
    "                rescale[i - 1],\\\n",
    "                rescale[i - 24]) + (1 - alpha))\n",
    "        pun += mysigmo(rescale[i] / min( \\\n",
    "                rescale[i + 24], \\\n",
    "                rescale[i - 1],\\\n",
    "                rescale[i - 24]) - 1/(1 - alpha))\n",
    "\n",
    "    for i in diagonal_line[1:-1]:  # for diagonal side of matrix\n",
    "        pun += mysigmo(-rescale[i] / max( \\\n",
    "                rescale[i + 1], \\\n",
    "                rescale[i - 24]) + (1 - alpha))\n",
    "        pun += mysigmo(rescale[i] / min( \\\n",
    "                rescale[i + 1], \\\n",
    "                rescale[i - 24]) - 1/(1 - alpha))\n",
    "\n",
    "    for i in inner[0:-1]:  # for the rest \n",
    "        pun +=  mysigmo(-rescale[i] / max( \\\n",
    "                rescale[i + 1],\\\n",
    "                rescale[i - 1],\\\n",
    "                rescale[i + 24],\\\n",
    "                rescale[i - 24]) + (1 - alpha))\n",
    "        pun += mysigmo(rescale[i] / min( \\\n",
    "                rescale[i + 1],\\\n",
    "                rescale[i - 1],\\\n",
    "                rescale[i + 24],\\\n",
    "                rescale[i - 24]) - 1/(1 - alpha))\n",
    "        \n",
    "    return pun"
   ]
  },
  {
   "cell_type": "code",
   "execution_count": 6,
   "metadata": {},
   "outputs": [],
   "source": [
    "# preparation - useful function\n",
    "def chi2_cov(rescaling, pun=True):  # definition of chi^2 with covariance\n",
    "    mec = np.reshape(np.matmul(matrix, rescaling),(12,13)).flatten()  # rescaled MEC\n",
    "        \n",
    "    tmp = (cross_daniel_cov - cross_nuwro_cov - mec)\n",
    "    if pun==True:\n",
    "        return(np.matmul(np.matmul(tmp,covariance), tmp) + punishment(rescaling))  # chi^2 = tmp.cov.tmp\n",
    "    else:\n",
    "        return np.matmul(np.matmul(tmp,covariance), tmp))\n",
    "\n",
    "def starting_matrix(x):  # starting matrix - 1 above diagonal, x below diagonal\n",
    "    tmp = []\n",
    "    for i in range(0,24):\n",
    "        tmp += [1] * i + [x + 0.1*random.random() for a in range(24-i)] # with random fluctuation\n",
    "        \n",
    "    return tmp\n",
    "\n",
    "def plot_matrix(x, chi2, method, success):  # drawing matrix and saving it to .pdf file \n",
    "    # method = 1 -> scipy\n",
    "    # method = 0 -> migrad\n",
    "    rescale = np.reshape(x,(24,24))\n",
    "\n",
    "    for i in range(24):\n",
    "        for j in range(i + 1, 24):\n",
    "            rescale[j][i] = None\n",
    "\n",
    "    fig = plt.figure(num=1, figsize=(1, 1), dpi=1, facecolor='w', edgecolor='k')\n",
    "    fig, ax = plt.subplots()\n",
    "\n",
    "    for (j,i),label in np.ndenumerate(rescale):\n",
    "        if (label>0):\n",
    "            ax.text(50*i+25,50*j+25,\"{0:.1f}\".format(label),ha='center',va='center',fontsize=3,color=\"black\",weight='bold')\n",
    "        else:\n",
    "            ax.text(50*i+25,50*j+25,\" \",ha='center',va='center',fontsize=3,color=\"white\",weight='bold')\n",
    "\n",
    "    im = ax.imshow(rescale, origin=\"lower\",extent=(1,1200,1,1200))\n",
    "    cbar = ax.figure.colorbar(im, ax=ax)\n",
    "    cbar.ax.set_ylabel(\" \", rotation=-90, va=\"bottom\")\n",
    "    \n",
    "    ax.set_title('$\\\\chi^2$ =' + str('%.2f' % chi2) + \\\n",
    "             ', with constrains $\\\\alpha = $' + str(alpha) + \\\n",
    "             \",\\n method - \" + str(method) + \\\n",
    "             \", success - \" + str(success), fontsize=10)\n",
    "    \n",
    "    savetxt(\"Minuit/matrices/matrix_\" + str('%.2f' % chi2) + \"_\" + str(method) + \".dat\", rescale)\n",
    "    fig.savefig(\"Minuit/plots/matrix_\" + str('%.2f' % chi2) + \"_\" + str(method) + \".pdf\",dpi=300, bbox_inches='tight', pad_inches=0, quality=95)\n",
    "\n",
    "    plt.show()\n",
    "    \n",
    "def plot_results(x=np.ones(mec_dim**2), title=\"\", save=True):\n",
    "    mec = np.reshape(np.matmul(matrix, x),(13,12)).transpose().flatten()  # MEC cross section\n",
    "    mec_org = np.reshape(np.matmul(matrix, np.ones(mec_dim**2)),(13,12)).transpose().flatten()  # MEC cross section\n",
    "\n",
    "    for i in range(12):\n",
    "        plt.figure(i)\n",
    "        \n",
    "        kosz = i*13\n",
    "        tmp1 = np.append(cross_nuwro[kosz:kosz+13],cross_nuwro[kosz+12])\n",
    "        tmp2 = np.append(mec[kosz:kosz+13],mec[kosz+12])\n",
    "        tmp3 = np.append(mec_org[kosz:kosz+13],mec_org[kosz+12])\n",
    "        \n",
    "        plt.step(pT_plot-delta_pT_plot/2, \n",
    "                 tmp1+tmp2,\n",
    "                 where=\"post\",\n",
    "                 label=\"after rescaling\")\n",
    "        plt.step(pT_plot-delta_pT_plot/2, \n",
    "                 tmp1+tmp3,\n",
    "                 where=\"post\",\n",
    "                 label=\"before rescaling\")\n",
    "        plt.errorbar(pT, \n",
    "                     cross_daniel[kosz:kosz+13], \n",
    "                     yerr=cross_error_vanilla[kosz:kosz+13], \n",
    "                     xerr=0, \n",
    "                     fmt=\"r+\")\n",
    "        \n",
    "        plt.title(title + \" ; \" + str(pL[i]) + \" < $p_L$ < \" + str(pL[i+1]))\n",
    "        \n",
    "        leg = plt.legend()\n",
    "        \n",
    "        xlabel(\"$p_T$ [MeV]\")\n",
    "        ylabel(\"$\\\\sigma$ [cm$^2$ \\\\ GeV$^2$ \\\\ nucleon]\")\n",
    "        \n",
    "#         xlim(0, None)\n",
    "#         ylim(0, None)\n",
    "        \n",
    "        if save:\n",
    "            plt.savefig(\"Minuit/plots/\" + str(title) + \"_matrix_\" + str(i) + \".pdf\")"
   ]
  },
  {
   "cell_type": "markdown",
   "metadata": {},
   "source": [
    "# migrad()"
   ]
  },
  {
   "cell_type": "code",
   "execution_count": 7,
   "metadata": {},
   "outputs": [],
   "source": [
    "# test_1 - chi^2 w-o covariance\n",
    "# chi2 = (((cross_daniel - cross_nuwro - mec)/cross_error)**2).sum()\n",
    "# print(chi2)\n",
    "\n",
    "# print(chi2_cov(np.ones(576)))"
   ]
  },
  {
   "cell_type": "code",
   "execution_count": 17,
   "metadata": {},
   "outputs": [],
   "source": [
    "# # old method - using Minuit interface -> it easier to use minimize fuction than migrad\n",
    "# non_negative = np.reshape((0, None) * mec_dim**2, (mec_dim**2,2))  # every element should not be negative\n",
    "\n",
    "# triangular = []\n",
    "# for i in range(0,24):  # fixing over diagonal elements\n",
    "#     triangular += [True] * i + [False] * (24-i)\n",
    "    \n",
    "# def m(x):  # m for different starting parameter\n",
    "#     return Minuit.from_array_func(chi2_cov, \n",
    "#                                   starting_matrix(x), \n",
    "#                                   error=0.1, \n",
    "#                                   errordef=1, \n",
    "#                                   limit=non_negative, \n",
    "#                                   fix=triangular,\n",
    "#                                   use_array_call=True)"
   ]
  },
  {
   "cell_type": "code",
   "execution_count": 18,
   "metadata": {
    "scrolled": true
   },
   "outputs": [
    {
     "data": {
      "text/plain": [
       "<Figure size 1x1 with 0 Axes>"
      ]
     },
     "metadata": {},
     "output_type": "display_data"
    },
    {
     "data": {
      "image/png": "[encoded data removed]",
      "text/plain": [
       "<Figure size 432x288 with 2 Axes>"
      ]
     },
     "metadata": {},
     "output_type": "display_data"
    }
   ],
   "source": [
    "# # ploting one solution -- old method\n",
    "# tmp = m(1)\n",
    "# tmp.migrad()\n",
    "# plot_matrix(tmp.np_values(), tmp.fval, \"migrad\", str(tmp.migrad_ok()))"
   ]
  },
  {
   "cell_type": "code",
   "execution_count": 21,
   "metadata": {},
   "outputs": [],
   "source": [
    "start = res[\"x\"]"
   ]
  },
  {
   "cell_type": "code",
   "execution_count": 22,
   "metadata": {},
   "outputs": [
    {
     "data": {
      "text/plain": [
       "<Figure size 1x1 with 0 Axes>"
      ]
     },
     "metadata": {},
     "output_type": "display_data"
    },
    {
     "data": {
      "image/png": "[encoded data removed]",
      "text/plain": [
       "<Figure size 432x288 with 2 Axes>"
      ]
     },
     "metadata": {},
     "output_type": "display_data"
    }
   ],
   "source": [
    "# checking Minuit -- easier method\n",
    "tmp = []\n",
    "for i in range(0,24):  # fixing over diagonal elements\n",
    "    tmp += [1,1] * i + [0.01, None] * (24-i)\n",
    "    \n",
    "bnd = np.reshape(tmp,(576,2))  # bounds - no zero in order to avoid division by it\n",
    "\n",
    "res = minimize(chi2_cov, \n",
    "               start, \n",
    "               bounds=bnd,\n",
    "               options={\"maxfev\":100000000})\n",
    "\n",
    "plot_matrix(res[\"x\"], res[\"fun\"] , \"migrad\", res[\"success\"])"
   ]
  },
  {
   "cell_type": "code",
   "execution_count": 11,
   "metadata": {},
   "outputs": [],
   "source": [
    "# plot_results(x=np.array(res[\"x\"]).flatten(), title=\"MINUIT2\", save=True)"
   ]
  },
  {
   "cell_type": "code",
   "execution_count": 12,
   "metadata": {
    "scrolled": true
   },
   "outputs": [],
   "source": [
    "# # how does the result change with respect to starting matrix\n",
    "# chi2_of_starting_param = []\n",
    "# starting_param = []\n",
    "\n",
    "# for i in numpy.arange(0, 1, 0.1):\n",
    "#     tmp = m(i)\n",
    "#     tmp.migrad()\n",
    "#     chi2_of_starting_param += [tmp.fval]\n",
    "#     starting_param += [i]\n",
    "    \n",
    "# xlabel(\"param of starting matrix\")\n",
    "# ylabel(\"$\\\\chi^2$\")\n",
    "# plot(starting_param, chi2_of_starting_param,\".\")\n",
    "# # savefig(\"/home/michaszko/Desktop/lol.pdf\")"
   ]
  },
  {
   "cell_type": "code",
   "execution_count": 13,
   "metadata": {},
   "outputs": [],
   "source": [
    "# # how does the result osccilate \n",
    "# chi2_of_starting_param = []\n",
    "# starting_param = []\n",
    "\n",
    "# for i in range(10):\n",
    "#     tmp = m(0.1)\n",
    "#     tmp.migrad()\n",
    "#     chi2_of_starting_param += [tmp.fval]\n",
    "#     starting_param += [i]\n",
    "    \n",
    "# xlabel(\"param of starting matrix\")\n",
    "# ylabel(\"$\\\\chi^2$\")\n",
    "# plot(starting_param, chi2_of_starting_param,\".\")\n",
    "# # savefig(\"/home/michaszko/Desktop/lol.pdf\")"
   ]
  },
  {
   "cell_type": "markdown",
   "metadata": {},
   "source": [
    "# minimize() \n",
    "### with scipy"
   ]
  },
  {
   "cell_type": "raw",
   "metadata": {},
   "source": [
    "# bounds and constrains\n",
    "tmp = []\n",
    "for i in range(0,24):  # fixing over diagonal elements\n",
    "    tmp += [1,1] * i + [0.01, None] * (24-i)\n",
    "    \n",
    "bnd = np.reshape(tmp,(576,2))  # bounds - no zero in order to avoid division by it\n",
    "\n",
    "##################################\n",
    "\n",
    "upper = []\n",
    "for i in range(24):\n",
    "    for j in range(0, i):\n",
    "        upper += [24*i + j]  # elements' indexes over diagonal \n",
    "\n",
    "lower = []\n",
    "for i in range(24):\n",
    "    for j in range(i, 24):\n",
    "        lower += [24*i + j]  # elements' indexes below diagonal \n",
    "        \n",
    "# d - diagonal_line \n",
    "# r - right_line\n",
    "# b - bottom line\n",
    "# i - inner\n",
    "# . - both \n",
    "#\n",
    "#     ---------\n",
    "#     |      .|\n",
    "#     |    dir|\n",
    "#     |  diiir|\n",
    "#     |.bbbbb.|\n",
    "#     ---------\n",
    "\n",
    "bottom_line    = range(24)\n",
    "right_line     = range(23, 24 ** 2, 24)\n",
    "diagonal_line  = [24*i + i for i in range(24)]\n",
    "inner          = [x for x in lower if x not in bottom_line and x not in right_line and x not in diagonal_line]\n",
    "\n",
    "\n",
    "alpha = 0.3  # parameter of smoothness \n",
    "\n",
    "cons = []\n",
    "\n",
    "# for i in upper:  # for upper elements of matrix\n",
    "#     cons += [{'type': 'eq', 'fun': lambda x: x[i] - 1}]\n",
    "\n",
    "for i in bottom_line[1:-1]:  # for bottom side of matrix\n",
    "    cons += [{'type': 'ineq', 'fun': lambda x: x[i] / max( \\\n",
    "            x[i + 1], \\\n",
    "            x[i + 24],\\\n",
    "            x[i - 1]) - (1 - alpha)}]\n",
    "    cons += [{'type': 'ineq', 'fun': lambda x:  -x[i] / min( \\\n",
    "            x[i + 1], \\\n",
    "            x[i + 24],\\\n",
    "            x[i - 1]) + 1/(1 - alpha) }]\n",
    "    \n",
    "for i in right_line[1:-1]:  # for right side of matrix\n",
    "    cons += [{'type': 'ineq', 'fun': lambda x: x[i] / max( \\\n",
    "            x[i + 24], \\\n",
    "            x[i - 1],\\\n",
    "            x[i - 24]) - (1 - alpha)}]\n",
    "    cons += [{'type': 'ineq', 'fun': lambda x:  -x[i] / min( \\\n",
    "            x[i + 24], \\\n",
    "            x[i - 1],\\\n",
    "            x[i - 24]) + 1/(1 - alpha) }]\n",
    "    \n",
    "for i in diagonal_line[1:-1]:  # for diagonal side of matrix\n",
    "    cons += [{'type': 'ineq', 'fun': lambda x: x[i] / max( \\\n",
    "            x[i + 1], \\\n",
    "            x[i - 24]) - (1 - alpha)}]\n",
    "    cons += [{'type': 'ineq', 'fun': lambda x:  -x[i] / min( \\\n",
    "            x[i + 1], \\\n",
    "            x[i - 24]) + 1/(1 - alpha) }]\n",
    "    \n",
    "for i in inner[0:-1]:  # for the rest \n",
    "    cons += [{'type': 'ineq', 'fun': lambda x: x[i] / max( \\\n",
    "            x[i + 1],\\\n",
    "            x[i - 1],\\\n",
    "            x[i + 24],\\\n",
    "            x[i - 24]) - (1 - alpha)}]\n",
    "    cons += [{'type': 'ineq', 'fun': lambda x:  -x[i] / min( \\\n",
    "            x[i + 1],\\\n",
    "            x[i - 1],\\\n",
    "            x[i + 24],\\\n",
    "            x[i - 24]) + 1/(1 - alpha) }]"
   ]
  },
  {
   "cell_type": "raw",
   "metadata": {},
   "source": [
    "# possible methods\n",
    "# L-BFGS-B, TNC\n",
    "# COBYLA, SLSQP, trust-constr\n",
    "\n",
    "mth = \"trust-constr\"\n",
    "\n",
    "# rescale_matrix = starting_matrix(0.05)\n",
    "\n",
    "res = minimize(chi2_cov, \n",
    "#                    rescale_matrix, \n",
    "               starting_matrix(1),\n",
    "               method=mth, \n",
    "               bounds=bnd, \n",
    "               constraints=cons, \n",
    "               options={\"maxiter\":2000})\n",
    "\n",
    "#     rescale_matrix = res[\"x\"]\n",
    "\n",
    "savetxt(\"longer_1.dat\", res[\"x\"])\n",
    "\n",
    "plot_matrix(res[\"x\"], res[\"fun\"])"
   ]
  },
  {
   "cell_type": "raw",
   "metadata": {},
   "source": [
    "# ploting results from file\n",
    "ress = np.array(loadtxt(\"Minuit/matrices/migrad_punish_0.3.dat\")).flatten()\n",
    "plot_matrix(ress, chi2_cov(ress),titleTrue=False)\n",
    "# plot_results(ress, \"rescale_5\")"
   ]
  },
  {
   "cell_type": "raw",
   "metadata": {},
   "source": [
    "# # plotting results from recent calculations\n",
    "# plot_matrix(res[\"x\"], res[\"fun\"])\n",
    "# plot_results(res[\"x\"], \"rescale\")"
   ]
  },
  {
   "cell_type": "raw",
   "metadata": {},
   "source": [
    "# # how the results differ with changes of starting matrix?\n",
    "# chi2_of_starting_param = []\n",
    "# starting_param = []\n",
    "\n",
    "# for j in numpy.arange(0, 1, 0.2):\n",
    "#     res = minimize(chi2_cov, starting_matrix(j), method='SLSQP', bounds=bnd, constraints=cons)\n",
    "#     chi2_of_starting_param += [res['fun']]\n",
    "#     starting_param += [j]"
   ]
  },
  {
   "cell_type": "raw",
   "metadata": {},
   "source": [
    "# # plot of upper results \n",
    "# plot(starting_param, chi2_of_starting_param,\".\")\n",
    "# xlabel(\"param of starting matrix\")\n",
    "# ylabel(\"$\\\\chi^2$\")\n",
    "# savefig(\"/home/michaszko/Desktop/lol.pdf\")\n",
    "# xlim(0,2)"
   ]
  },
  {
   "cell_type": "code",
   "execution_count": 38,
   "metadata": {},
   "outputs": [
    {
     "data": {
      "text/plain": [
       "2.2603242979035746e-05"
      ]
     },
     "execution_count": 38,
     "metadata": {},
     "output_type": "execute_result"
    },
    {
     "data": {
      "image/png": "[encoded data removed]",
      "text/plain": [
       "<Figure size 432x288 with 1 Axes>"
      ]
     },
     "metadata": {},
     "output_type": "display_data"
    }
   ],
   "source": [
    "data_x = np.arange(-.1,.1,0.01)\n",
    "plot(data_x,mysigmo(data_x))\n",
    "mysigmo(-0.1)"
   ]
  }
 ],
 "metadata": {
  "kernelspec": {
   "display_name": "Python 3",
   "language": "python",
   "name": "python3"
  },
  "language_info": {
   "codemirror_mode": {
    "name": "ipython",
    "version": 3
   },
   "file_extension": ".py",
   "mimetype": "text/x-python",
   "name": "python",
   "nbconvert_exporter": "python",
   "pygments_lexer": "ipython3",
   "version": "3.6.7"
  }
 },
 "nbformat": 4,
 "nbformat_minor": 2
}
