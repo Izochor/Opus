{
 "cells": [
  {
   "cell_type": "markdown",
   "metadata": {},
   "source": [
    "# Preparation"
   ]
  },
  {
   "cell_type": "code",
   "execution_count": 1,
   "metadata": {},
   "outputs": [
    {
     "name": "stdout",
     "output_type": "stream",
     "text": [
      "Populating the interactive namespace from numpy and matplotlib\n"
     ]
    }
   ],
   "source": [
    "# basic setup of the notebook\n",
    "%pylab inline\n",
    "from pprint import pprint # we use this to pretty print some stuff later\n",
    "import numpy as np\n",
    "from matplotlib.colors import LogNorm\n",
    "from iminuit import Minuit\n",
    "# from iminuit import minimize\n",
    "from scipy.optimize import minimize\n",
    "# from jupyterthemes import jtplot\n",
    "# jtplot.style()"
   ]
  },
  {
   "cell_type": "code",
   "execution_count": 2,
   "metadata": {},
   "outputs": [],
   "source": [
    "# defining constants\n",
    "mec_dim = 24  # dimension of matrix of rescaling\n",
    "events_number = 1e6  # number of events in sample\n",
    "cross_section = 1.19727e-39  # calculated cross section in .txt file\n",
    "\n",
    "delta_pT = [75, 75, 100, 75, 75, 75, 75, 150, 150, 150, 250, 250, 1000]\n",
    "delta_pL = [500, 500, 500, 500, 500, 500, 500, 1000, 2000, 2000, 5000, 5000]\n",
    "bins_width_vanilla = np.kron(delta_pT, delta_pL)\n",
    "bins_width = np.outer(bins_width_vanilla,  np.ones(mec_dim**2))\n",
    "\n",
    "# print(bins_width)"
   ]
  },
  {
   "cell_type": "code",
   "execution_count": 3,
   "metadata": {},
   "outputs": [],
   "source": [
    "# loading files\n",
    "matrix_vanilla      = np.fromfile(\"data/matrix_LFG.dat\",                sep=\" \")  # distribution of MEC events in bins \n",
    "cross_nuwro         = np.fromfile(\"data/cros_total_nuwro_LFG.dat\",      sep=\" \")  # cross section of nuwro (w-o MEC)\n",
    "cross_daniel        = np.fromfile(\"data/cros_total_daniel.dat\",         sep=\" \")  # cross section of MINERvA\n",
    "covariance_vanilla  = np.fromfile(\"data/daniel_covariance_vanilla.dat\", sep=\" \")  # covariance matrix\n",
    "cross_error_vanilla = np.fromfile(\"data/cros_error_daniel.dat\",         sep=\" \")  # error bars"
   ]
  },
  {
   "cell_type": "code",
   "execution_count": 4,
   "metadata": {},
   "outputs": [],
   "source": [
    "# modifying files\n",
    "matrix_unnormalized = np.reshape(matrix_vanilla,(156, mec_dim**2))  # reshaping MEC matrix\n",
    "matrix = matrix_unnormalized * cross_section * 1e6 * 12 / 13 / bins_width / events_number  # normalizing matrix\n",
    "\n",
    "covariance_noninverted = np.reshape(covariance_vanilla, (156,156))  # reshaping covarince matrix\n",
    "covariance = pinv(covariance_noninverted)  # pseudo-inverse covariance matrix (used later); inverse doesnt exist\n",
    "\n",
    "cross_error = np.where(cross_error_vanilla==0, 1, cross_error_vanilla)  # removing zeros from error bars"
   ]
  },
  {
   "cell_type": "code",
   "execution_count": 5,
   "metadata": {},
   "outputs": [],
   "source": [
    "# preparation - useful function\n",
    "def chi2_cov(rescaling):  # definition of chi^2 with covariance\n",
    "    mec = np.reshape(np.matmul(matrix, rescaling),(13,12)).transpose().flatten()  # rescaled MEC\n",
    "    \n",
    "    # rotation of results due to covariance matrix's look \n",
    "    cross_daniel_cov = np.reshape(cross_daniel,(12,13)).transpose().flatten()  \n",
    "    cross_nuwro_cov = np.reshape(cross_nuwro,(12,13)).transpose().flatten()\n",
    "    cross_mec_cov = np.reshape(mec,(12,13)).transpose().flatten()\n",
    "\n",
    "    tmp = (cross_daniel_cov - cross_nuwro_cov - cross_mec_cov)\n",
    "    return(np.matmul(np.matmul(tmp,covariance), tmp))  # chi^2 = tmp.cov.tmp\n",
    "\n",
    "def starting_matrix(x):  # starting matrix - 1 above diagonal, x below diagonal\n",
    "    tmp = []\n",
    "    for i in range(0,24):\n",
    "        tmp += [1] * i + [x] * (24-i)\n",
    "        \n",
    "    return tmp"
   ]
  },
  {
   "cell_type": "markdown",
   "metadata": {},
   "source": [
    "# migrad()"
   ]
  },
  {
   "cell_type": "code",
   "execution_count": 6,
   "metadata": {},
   "outputs": [],
   "source": [
    "# test_1 - reconstructing orginal plots\n",
    "# mec = np.reshape(np.matmul(matrix, np.ones(mec_dim**2)),(13,12)).transpose().flatten()  # MEC cross section\n",
    "\n",
    "# plot(cross_nuwro+mec,\"-\")\n",
    "# plot(cross_daniel,\"--\")\n",
    "# plot(mec,\"--\")"
   ]
  },
  {
   "cell_type": "code",
   "execution_count": 7,
   "metadata": {},
   "outputs": [],
   "source": [
    "# test_2 - chi^2 w-o covariance\n",
    "# chi2 = (((cross_daniel - cross_nuwro - mec)/cross_error)**2).sum()\n",
    "# print(chi2)"
   ]
  },
  {
   "cell_type": "code",
   "execution_count": 8,
   "metadata": {},
   "outputs": [],
   "source": [
    "# non_negative = np.reshape((0, None) * mec_dim**2, (mec_dim**2,2))  # every element should not be negative\n",
    "\n",
    "# triangular = []\n",
    "# for i in range(0,24):  # fixing over diagonal elements\n",
    "#     triangular += [True] * i + [False] * (24-i)\n",
    "    \n",
    "# def m(x):  # m for different starting parameter\n",
    "#     return Minuit.from_array_func(chi2_cov, starting_matrix(x), \n",
    "#                                   error=0.01, \n",
    "#                                   errordef=1, \n",
    "#                                   limit=non_negative, \n",
    "#                                   fix=triangular)"
   ]
  },
  {
   "cell_type": "code",
   "execution_count": 9,
   "metadata": {
    "scrolled": true
   },
   "outputs": [],
   "source": [
    "# chi2_of_starting_param = []\n",
    "# starting_param = []\n",
    "\n",
    "# for i in numpy.arange(0, 1, 0.01):\n",
    "#     tmp = m(i)\n",
    "#     tmp.migrad()\n",
    "#     chi2_of_starting_param += [tmp.fval]\n",
    "#     starting_param += [i]"
   ]
  },
  {
   "cell_type": "code",
   "execution_count": 10,
   "metadata": {},
   "outputs": [],
   "source": [
    "# plot(starting_param, chi2_of_starting_param,\".\")\n",
    "# xlabel(\"param of starting matrix\")\n",
    "# ylabel(\"$\\\\chi^2$\")\n",
    "# savefig(\"/home/michaszko/Desktop/lol.pdf\")\n",
    "# xlim(0,2)"
   ]
  },
  {
   "cell_type": "code",
   "execution_count": 11,
   "metadata": {},
   "outputs": [],
   "source": [
    "# tmp = m(0.05)\n",
    "# tmp.migrad()\n",
    "# # rescale = tmp.np_values()"
   ]
  },
  {
   "cell_type": "markdown",
   "metadata": {},
   "source": [
    "# minimize() \n",
    "### with scipy"
   ]
  },
  {
   "cell_type": "code",
   "execution_count": 108,
   "metadata": {},
   "outputs": [],
   "source": [
    "# drawing matrix and saving it to .pdf file on desktop\n",
    "def plot_matrix(x):\n",
    "    rescale = np.reshape(x,(24,24))\n",
    "\n",
    "    for i in range(24):\n",
    "        for j in range(i + 1, 24):\n",
    "            rescale[j][i] = None\n",
    "\n",
    "    fig = plt.figure(num=1, figsize=(1, 1), dpi=1, facecolor='w', edgecolor='k')\n",
    "    fig, ax = plt.subplots()\n",
    "\n",
    "    for (j,i),label in np.ndenumerate(rescale):\n",
    "        if (label>0):\n",
    "            ax.text(50*i+25,50*j+25,\"{0:.1f}\".format(label*100),ha='center',va='center',fontsize=3,color=\"black\",weight='bold')\n",
    "        else:\n",
    "            ax.text(50*i+25,50*j+25,\"lol\",ha='center',va='center',fontsize=3,color=\"white\",weight='bold')\n",
    "\n",
    "    im = ax.imshow(a, origin=\"lower\",extent=(1,1200,1,1200))\n",
    "    cbar = ax.figure.colorbar(im, ax=ax)\n",
    "    cbar.ax.set_ylabel(\" \", rotation=-90, va=\"bottom\")\n",
    "\n",
    "    ax.set_title('$\\\\chi^2$ =' + str('%.2f' % res[\"fun\"]) + \\\n",
    "                 ', with constrains $\\\\alpha = $' + str(alpha) + \\\n",
    "                 \",\\n method - \" + mth + \\\n",
    "                 \", success - \" + str(res[\"success\"]), fontsize=10)\n",
    "\n",
    "    fig.savefig(\"/home/michaszko/Desktop/Plots/matrix_\" + str('%.2f' % res[\"fun\"]) + \"_\" + mth + \".pdf\",dpi=300, bbox_inches='tight', pad_inches=0, quality=95)\n",
    "\n",
    "\n",
    "    plt.show()"
   ]
  },
  {
   "cell_type": "code",
   "execution_count": 106,
   "metadata": {},
   "outputs": [],
   "source": [
    "# bounds and constrains\n",
    "tmp = []\n",
    "for i in range(0,24):  # fixing over diagonal elements\n",
    "    tmp += [1,1] * i + [0.01, None] * (24-i)\n",
    "    \n",
    "bnd = np.reshape(tmp,(576,2))  # bounds - no zero in order to avoid division by it\n",
    "\n",
    "##################################\n",
    "\n",
    "upper = []\n",
    "for i in range(24):\n",
    "    for j in range(0, i):\n",
    "        upper += [24*i + j]  # elements' indexes over diagonal \n",
    "\n",
    "lower = []\n",
    "for i in range(24):\n",
    "    for j in range(i, 24):\n",
    "        lower += [24*i + j]  # elements' indexes below diagonal \n",
    "        \n",
    "# d - diagonal_line \n",
    "# r - right_line\n",
    "# b - bottom line\n",
    "# i - inner\n",
    "# . - both \n",
    "#\n",
    "#     ---------\n",
    "#     |      .|\n",
    "#     |    dir|\n",
    "#     |  diiir|\n",
    "#     |.bbbbb.|\n",
    "#     ---------\n",
    "\n",
    "bottom_line    = range(24)\n",
    "right_line     = range(23, 24 ** 2, 24)\n",
    "diagonal_line  = [24*i + i for i in range(24)]\n",
    "inner          = [x for x in lower if x not in bottom_line and x not in right_line and x not in diagonal_line]\n",
    "\n",
    "\n",
    "alpha = 0.3  # parameter of smoothness \n",
    "\n",
    "cons = []\n",
    "\n",
    "# for i in upper:  # for upper elements of matrix\n",
    "#     cons += [{'type': 'eq', 'fun': lambda x: x[i] - 1}]\n",
    "\n",
    "for i in bottom_line[1:-1]:  # for bottom side of matrix\n",
    "    cons += [{'type': 'ineq', 'fun': lambda x: x[i] / max( \\\n",
    "            x[i + 1], \\\n",
    "            x[i + 24],\\\n",
    "            x[i - 1]) - (1 - alpha)}]\n",
    "    cons += [{'type': 'ineq', 'fun': lambda x:  -x[i] / min( \\\n",
    "            x[i + 1], \\\n",
    "            x[i + 24],\\\n",
    "            x[i - 1]) + 1/(1 - alpha) }]\n",
    "    \n",
    "for i in right_line[1:-1]:  # for right side of matrix\n",
    "    cons += [{'type': 'ineq', 'fun': lambda x: x[i] / max( \\\n",
    "            x[i + 24], \\\n",
    "            x[i - 1],\\\n",
    "            x[i - 24]) - (1 - alpha)}]\n",
    "    cons += [{'type': 'ineq', 'fun': lambda x:  -x[i] / min( \\\n",
    "            x[i + 24], \\\n",
    "            x[i - 1],\\\n",
    "            x[i - 24]) + 1/(1 - alpha) }]\n",
    "    \n",
    "for i in diagonal_line[1:-1]:  # for diagonal side of matrix\n",
    "    cons += [{'type': 'ineq', 'fun': lambda x: x[i] / max( \\\n",
    "            x[i + 1], \\\n",
    "            x[i - 24]) - (1 - alpha)}]\n",
    "    cons += [{'type': 'ineq', 'fun': lambda x:  -x[i] / min( \\\n",
    "            x[i + 1], \\\n",
    "            x[i - 24]) + 1/(1 - alpha) }]\n",
    "    \n",
    "for i in inner[1:-1]:  # for the rest \n",
    "    cons += [{'type': 'ineq', 'fun': lambda x: x[i] / max( \\\n",
    "            x[i + 1],\\\n",
    "            x[i - 1],\\\n",
    "            x[i + 24],\\\n",
    "            x[i - 24]) - (1 - alpha)}]\n",
    "    cons += [{'type': 'ineq', 'fun': lambda x:  -x[i] / min( \\\n",
    "            x[i + 1],\\\n",
    "            x[i - 1],\\\n",
    "            x[i + 24],\\\n",
    "            x[i - 24]) + 1/(1 - alpha) }]"
   ]
  },
  {
   "cell_type": "code",
   "execution_count": null,
   "metadata": {},
   "outputs": [],
   "source": [
    "# possible methods\n",
    "# L-BFGS-B, TNC\n",
    "# COBYLA, SLSQP, trust-constr\n",
    "\n",
    "mth = \"trust-constr\"\n",
    "\n",
    "rescale_matrix = starting_matrix(0.05)\n",
    "\n",
    "for j in range(6):\n",
    "    res = minimize(chi2_cov, rescale_matrix, method=mth , bounds=bnd, constraints=cons)\n",
    "    rescale_matrix = res[\"x\"]\n",
    "    \n",
    "    plot_matrix(rescale)\n"
   ]
  },
  {
   "cell_type": "code",
   "execution_count": 109,
   "metadata": {},
   "outputs": [
    {
     "data": {
      "text/plain": [
       "<Figure size 1x1 with 0 Axes>"
      ]
     },
     "metadata": {},
     "output_type": "display_data"
    },
    {
     "data": {
      "image/png": "[encoded data removed]",
      "text/plain": [
       "<Figure size 432x288 with 2 Axes>"
      ]
     },
     "metadata": {},
     "output_type": "display_data"
    }
   ],
   "source": [
    "plot_matrix(rescale)"
   ]
  },
  {
   "cell_type": "code",
   "execution_count": null,
   "metadata": {},
   "outputs": [],
   "source": [
    "# # how the results differ with changes of starting matrix?\n",
    "# chi2_of_starting_param = []\n",
    "# starting_param = []\n",
    "\n",
    "# for j in numpy.arange(0, 1, 0.2):\n",
    "#     res = minimize(chi2_cov, starting_matrix(j), method='SLSQP', bounds=bnd, constraints=cons)\n",
    "#     chi2_of_starting_param += [res['fun']]\n",
    "#     starting_param += [j]"
   ]
  },
  {
   "cell_type": "code",
   "execution_count": null,
   "metadata": {},
   "outputs": [],
   "source": [
    "# # plot of upper results \n",
    "# plot(starting_param, chi2_of_starting_param,\".\")\n",
    "# xlabel(\"param of starting matrix\")\n",
    "# ylabel(\"$\\\\chi^2$\")\n",
    "# savefig(\"/home/michaszko/Desktop/lol.pdf\")\n",
    "# xlim(0,2)"
   ]
  }
 ],
 "metadata": {
  "kernelspec": {
   "display_name": "Python 3",
   "language": "python",
   "name": "python3"
  },
  "language_info": {
   "codemirror_mode": {
    "name": "ipython",
    "version": 3
   },
   "file_extension": ".py",
   "mimetype": "text/x-python",
   "name": "python",
   "nbconvert_exporter": "python",
   "pygments_lexer": "ipython3",
   "version": "3.6.7"
  }
 },
 "nbformat": 4,
 "nbformat_minor": 2
}
