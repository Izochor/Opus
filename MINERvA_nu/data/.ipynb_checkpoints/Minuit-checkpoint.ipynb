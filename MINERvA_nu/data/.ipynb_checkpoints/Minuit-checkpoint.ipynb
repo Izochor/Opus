{
 "cells": [
  {
   "cell_type": "code",
   "execution_count": 1,
   "metadata": {},
   "outputs": [
    {
     "name": "stdout",
     "output_type": "stream",
     "text": [
      "Populating the interactive namespace from numpy and matplotlib\n"
     ]
    }
   ],
   "source": [
    "# basic setup of the notebook\n",
    "%pylab inline\n",
    "from pprint import pprint # we use this to pretty print some stuff later"
   ]
  },
  {
   "cell_type": "code",
   "execution_count": 2,
   "metadata": {},
   "outputs": [],
   "source": [
    "import numpy as np\n",
    "from matplotlib.colors import LogNorm\n",
    "from iminuit import Minuit"
   ]
  },
  {
   "cell_type": "code",
   "execution_count": 3,
   "metadata": {},
   "outputs": [],
   "source": [
    "# defining constants\n",
    "mec_dim = 24  # dimension of matrix of rescaling\n",
    "events_number = 1e6  # number of events in sample\n",
    "cross_section = 1.19727e-39  # calculated cross section in .txt file\n",
    "\n",
    "delta_pT = [75, 75, 100, 75, 75, 75, 75, 150, 150, 150, 250, 250, 1000]\n",
    "delta_pL = [500, 500, 500, 500, 500, 500, 500, 1000, 2000, 2000, 5000, 5000]\n",
    "bins_width_vanilla = np.kron(delta_pT, delta_pL)\n",
    "bins_width = np.outer(bins_width_vanilla,  np.ones(mec_dim**2))\n",
    "\n",
    "# print(bins_width)"
   ]
  },
  {
   "cell_type": "code",
   "execution_count": 4,
   "metadata": {},
   "outputs": [],
   "source": [
    "# loading files\n",
    "matrix_vanilla      = np.fromfile(\"matrix_LFG.dat\",                sep=\" \")  # distribution of MEC events in bins \n",
    "cross_nuwro         = np.fromfile(\"cros_total_nuwro_LFG.dat\",      sep=\" \")  # cross section of nuwro (w-o MEC)\n",
    "cross_daniel        = np.fromfile(\"cros_total_daniel.dat\",         sep=\" \")  # cross section of MINERvA\n",
    "covariance_vanilla  = np.fromfile(\"daniel_covariance_vanilla.dat\", sep=\" \")  # covariance matrix\n",
    "cross_error_vanilla = np.fromfile(\"cros_error_daniel.dat\",         sep=\" \")  # error bars"
   ]
  },
  {
   "cell_type": "code",
   "execution_count": 5,
   "metadata": {},
   "outputs": [],
   "source": [
    "# modifying files\n",
    "matrix_unnormalized = np.reshape(matrix_vanilla,(156, mec_dim**2))  # reshaping MEC matrix\n",
    "matrix = matrix_unnormalized * cross_section * 1e6 * 12 / 13 / bins_width / events_number  # normalizing matrix\n",
    "\n",
    "covariance_noninverted = np.reshape(covariance_vanilla, (156,156))  # reshaping covarince matrix\n",
    "covariance = pinv(covariance_noninverted)  # pseudo-inverse covariance matrix (used later); inverse doesnt exist\n",
    "\n",
    "cross_error = np.where(cross_error_vanilla==0, 1, cross_error_vanilla)  # removing zeros from error bars"
   ]
  },
  {
   "cell_type": "code",
   "execution_count": 6,
   "metadata": {},
   "outputs": [],
   "source": [
    "# test_1 - reconstructing orginal plots\n",
    "# mec = np.reshape(np.matmul(matrix, np.ones(mec_dim**2)),(13,12)).transpose().flatten()  # MEC cross section\n",
    "\n",
    "# plot(cross_nuwro+mec,\"-\")\n",
    "# plot(cross_daniel,\"--\")\n",
    "# plot(mec,\"--\")"
   ]
  },
  {
   "cell_type": "code",
   "execution_count": 7,
   "metadata": {},
   "outputs": [],
   "source": [
    "# test_2 - chi^2 w-o covariance\n",
    "# chi2 = (((cross_daniel - cross_nuwro - mec)/cross_error)**2).sum()\n",
    "# print(chi2)"
   ]
  },
  {
   "cell_type": "code",
   "execution_count": 8,
   "metadata": {},
   "outputs": [],
   "source": [
    "# preparation\n",
    "def chi2_cov(rescaling):  # definition of chi^2 with covariance\n",
    "    mec = np.reshape(np.matmul(matrix, rescaling),(13,12)).transpose().flatten()  # rescaled MEC\n",
    "    \n",
    "    # rotation of results due to covariance matrix's look \n",
    "    cross_daniel_cov = np.reshape(cross_daniel,(12,13)).transpose().flatten()  \n",
    "    cross_nuwro_cov = np.reshape(cross_nuwro,(12,13)).transpose().flatten()\n",
    "    cross_mec_cov = np.reshape(mec,(12,13)).transpose().flatten()\n",
    "\n",
    "    tmp = (cross_daniel_cov - cross_nuwro_cov - cross_mec_cov)\n",
    "    return(np.matmul(np.matmul(tmp,covariance), tmp))  # chi^2 = tmp.cov.tmp\n",
    "\n",
    "def starting_matrix(x):  # starting matrix - 1 above diagonal, x below diagonal\n",
    "    tmp = []\n",
    "    for i in range(0,24):\n",
    "        tmp += [1] * i + [x] * (24-i)\n",
    "        \n",
    "    return tmp\n",
    "\n",
    "non_negative = np.reshape((0, None) * mec_dim**2, (mec_dim**2,2))  # every element should not be negative\n",
    "\n",
    "triangular = []\n",
    "for i in range(0,24):  # fixing over diagonal elements\n",
    "    triangular += [True] * i + [False] * (24-i)\n",
    "    \n",
    "def m(x):  # m for different starting parameter\n",
    "    return Minuit.from_array_func(chi2_cov, starting_matrix(x), error=0.01, errordef=1, limit=non_negative, fix=triangular)"
   ]
  },
  {
   "cell_type": "code",
   "execution_count": 9,
   "metadata": {
    "scrolled": true
   },
   "outputs": [],
   "source": [
    "chi2_of_starting_param = []\n",
    "\n",
    "for i in numpy.arange(0, 2, 0.1):\n",
    "    tmp = m(i)\n",
    "    tmp.migrad()\n",
    "    chi2_of_starting_param += [tmp.fval]"
   ]
  },
  {
   "cell_type": "code",
   "execution_count": 12,
   "metadata": {},
   "outputs": [
    {
     "data": {
      "text/plain": [
       "[<matplotlib.lines.Line2D at 0x7f1006544f28>]"
      ]
     },
     "execution_count": 12,
     "metadata": {},
     "output_type": "execute_result"
    },
    {
     "data": {
      "image/png": "[encoded data removed]",
      "text/plain": [
       "<Figure size 432x288 with 1 Axes>"
      ]
     },
     "metadata": {},
     "output_type": "display_data"
    }
   ],
   "source": [
    "plot(chi2_of_starting_param,\"+\")\n",
    "# xlim(0,2)"
   ]
  },
  {
   "cell_type": "code",
   "execution_count": null,
   "metadata": {},
   "outputs": [],
   "source": [
    "a = np.reshape(m.np_values(),(24,24))\n",
    "\n",
    "fig = plt.figure(num=1, figsize=(1, 1), dpi=1, facecolor='w', edgecolor='k')\n",
    "fig, ax = plt.subplots()\n",
    "\n",
    "im = ax.imshow(a, origin=\"lower\",extent=(1,1200,1,1200), vmax = 2)\n",
    "cbar = ax.figure.colorbar(im, ax=ax)\n",
    "cbar.ax.set_ylabel(\" \", rotation=-90, va=\"bottom\")\n",
    "\n",
    "\n",
    "ax.set_title('$\\\\chi^2$ = 366.3, w-o constrains',fontsize=10)\n",
    "\n",
    "fig.savefig(\"/home/michaszko/Dropbox/Studia/LaTeX/Raport/figs/matrix.pdf\",dpi=300, bbox_inches='tight', pad_inches=0, quality=95)\n",
    "\n",
    "plt.show()"
   ]
  }
 ],
 "metadata": {
  "kernelspec": {
   "display_name": "Python 3",
   "language": "python",
   "name": "python3"
  },
  "language_info": {
   "codemirror_mode": {
    "name": "ipython",
    "version": 3
   },
   "file_extension": ".py",
   "mimetype": "text/x-python",
   "name": "python",
   "nbconvert_exporter": "python",
   "pygments_lexer": "ipython3",
   "version": "3.6.7"
  }
 },
 "nbformat": 4,
 "nbformat_minor": 2
}
